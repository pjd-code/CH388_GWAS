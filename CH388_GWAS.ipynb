{
  "nbformat": 4,
  "nbformat_minor": 0,
  "metadata": {
    "colab": {
      "name": "CH388_GWAS",
      "private_outputs": true,
      "provenance": [],
      "collapsed_sections": [],
      "authorship_tag": "ABX9TyN1FIVimPlh/rAFFvMfRRYQ",
      "include_colab_link": true
    },
    "kernelspec": {
      "name": "python3",
      "display_name": "Python 3"
    },
    "language_info": {
      "name": "python"
    }
  },
  "cells": [
    {
      "cell_type": "markdown",
      "metadata": {
        "id": "view-in-github",
        "colab_type": "text"
      },
      "source": [
        "<a href=\"https://colab.research.google.com/github/pjd-code/CH388_GWAS/blob/main/CH388_GWAS.ipynb\" target=\"_parent\"><img src=\"https://colab.research.google.com/assets/colab-badge.svg\" alt=\"Open In Colab\"/></a>"
      ]
    },
    {
      "cell_type": "code",
      "source": [
        "#clean up the Colab environment\n",
        "%cd /content/sample_data\n",
        "!rm *.csv\n",
        "!rm *.md\n",
        "!rm *.json\n",
        "%cd /content"
      ],
      "metadata": {
        "id": "YFtYPR2sQFhu"
      },
      "execution_count": null,
      "outputs": []
    },
    {
      "cell_type": "markdown",
      "source": [
        "The data for todays study is located at:\n",
        "https://figshare.com/articles/dataset/adhd2019/14671965 \n",
        "\n",
        "\n",
        "The journal article that goes with todays study is located at:\n",
        "https://www.ncbi.nlm.nih.gov/pmc/articles/PMC6481311/ \n",
        "\n",
        "The \"fastman\" github page is located at: https://github.com/kaustubhad/fastman"
      ],
      "metadata": {
        "id": "52pRK02eQGkw"
      }
    },
    {
      "cell_type": "code",
      "source": [
        "# 1) What does this command do? Provide a comment you could use to remember the details in the future.\n",
        "!gunzip /content/sample_data/daner_adhd_meta_filtered_NA_iPSYCH23_PGC11_sigPCs_woSEX_2ell6sd_EUR_Neff_70.meta.gz"
      ],
      "metadata": {
        "id": "I-KIsiM_D1_8"
      },
      "execution_count": null,
      "outputs": []
    },
    {
      "cell_type": "code",
      "source": [
        "# 2) Comment this code.\n",
        "!head /content/sample_data/daner_adhd_meta_filtered_NA_iPSYCH23_PGC11_sigPCs_woSEX_2ell6sd_EUR_Neff_70.meta"
      ],
      "metadata": {
        "id": "QaVUIrSKJDfq"
      },
      "execution_count": null,
      "outputs": []
    },
    {
      "cell_type": "code",
      "source": [
        "# 3) Comment this code.\n",
        "%load_ext rpy2.ipython"
      ],
      "metadata": {
        "id": "Yy6rFud3Jnwb"
      },
      "execution_count": null,
      "outputs": []
    },
    {
      "cell_type": "code",
      "source": [
        "# 4) Comment this code.\n",
        "%%R\n",
        "install.packages(\"remotes\")\n",
        "remotes::install_github(\"danioreo/fastman\")"
      ],
      "metadata": {
        "id": "VNAyvXu0JucA"
      },
      "execution_count": null,
      "outputs": []
    },
    {
      "cell_type": "code",
      "source": [
        "%%R\n",
        "library(fastman)\n",
        "library(data.table)"
      ],
      "metadata": {
        "id": "zOJ8lMAPKbbZ"
      },
      "execution_count": null,
      "outputs": []
    },
    {
      "cell_type": "code",
      "source": [
        "# 5) Comment this code.\n",
        "%%R\n",
        "data = fread(\"/content/sample_data/daner_adhd_meta_filtered_NA_iPSYCH23_PGC11_sigPCs_woSEX_2ell6sd_EUR_Neff_70.meta\")"
      ],
      "metadata": {
        "id": "PU9I6g3NMXZL"
      },
      "execution_count": null,
      "outputs": []
    },
    {
      "cell_type": "code",
      "source": [
        "%%R \n",
        "dim(data)"
      ],
      "metadata": {
        "id": "43R78A8YXpGB"
      },
      "execution_count": null,
      "outputs": []
    },
    {
      "cell_type": "code",
      "source": [
        "!head /content/sample_data/daner_adhd_meta_filtered_NA_iPSYCH23_PGC11_sigPCs_woSEX_2ell6sd_EUR_Neff_70.meta"
      ],
      "metadata": {
        "id": "AkDdVR2QNbLA"
      },
      "execution_count": null,
      "outputs": []
    },
    {
      "cell_type": "code",
      "source": [
        "# 6) Comment this code.\n",
        "%%R\n",
        "fastman(data, chr = \"CHR\", ps = \"BP\", p = \"P\")"
      ],
      "metadata": {
        "id": "PMyR8H8-NAlH"
      },
      "execution_count": null,
      "outputs": []
    },
    {
      "cell_type": "code",
      "source": [
        "%%R\n",
        "#png(\"md6.png\", width=10, height=6, units=\"in\", res=300)\n",
        "fastman(data, chr = \"CHR\", ps = \"BP\", p = \"P\", color = c(\"red\", \"blue\", \"green\"))"
      ],
      "metadata": {
        "id": "rGHZuIY5PM7v"
      },
      "execution_count": null,
      "outputs": []
    },
    {
      "cell_type": "markdown",
      "source": [
        "7) What does the red line indicate?\n",
        "\n",
        "8) What does the blue line indicate?\n",
        "\n"
      ],
      "metadata": {
        "id": "5sEOGKlpPoCu"
      }
    },
    {
      "cell_type": "code",
      "source": [
        "%%R\n",
        "fastqq(data)"
      ],
      "metadata": {
        "id": "QCZoWDlrQkSn"
      },
      "execution_count": null,
      "outputs": []
    },
    {
      "cell_type": "markdown",
      "source": [
        "9) What does the red line represent?\n",
        "\n",
        "10) What does the line of black dots represent. \n",
        "\n",
        "11) Why do the black dots rise above the red line as the plot moves right?\n",
        "\n"
      ],
      "metadata": {
        "id": "rLre2Z1NW3y1"
      }
    },
    {
      "cell_type": "code",
      "source": [
        "%%R\n",
        "install.packages(\"qqman\")"
      ],
      "metadata": {
        "id": "7OlKt6mkOLes"
      },
      "execution_count": null,
      "outputs": []
    },
    {
      "cell_type": "code",
      "source": [
        "%%R\n",
        "library(qqman)"
      ],
      "metadata": {
        "id": "B5eboiUjPanc"
      },
      "execution_count": null,
      "outputs": []
    },
    {
      "cell_type": "code",
      "source": [
        "%%R\n",
        "manhattan(data, chr = \"CHR\", ps = \"BP\", p = \"P\",annotatePval = 0.005, annotateTop = TRUE)"
      ],
      "metadata": {
        "id": "TzKpZgWYPaaM"
      },
      "execution_count": null,
      "outputs": []
    }
  ]
}